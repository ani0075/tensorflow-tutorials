{
 "cells": [
  {
   "cell_type": "code",
   "execution_count": 35,
   "metadata": {},
   "outputs": [
    {
     "name": "stdout",
     "output_type": "stream",
     "text": [
      "1.10.0\n"
     ]
    }
   ],
   "source": [
    "import tensorflow as tf\n",
    "from tensorflow import keras\n",
    "\n",
    "import numpy as np\n",
    "import matplotlib.pyplot as plt\n",
    "%matplotlib inline\n",
    "print(tf.__version__)"
   ]
  },
  {
   "cell_type": "markdown",
   "metadata": {},
   "source": [
    "### Download the IMDB dataset"
   ]
  },
  {
   "cell_type": "code",
   "execution_count": 6,
   "metadata": {},
   "outputs": [
    {
     "name": "stdout",
     "output_type": "stream",
     "text": [
      "Downloading data from https://storage.googleapis.com/tensorflow/tf-keras-datasets/imdb.npz\n",
      "17465344/17464789 [==============================] - 0s 0us/step\n"
     ]
    }
   ],
   "source": [
    "imdb = keras.datasets.imdb\n",
    "\n",
    "(train_data, train_labels), (test_data, test_labels) = imdb.load_data(num_words=10000)"
   ]
  },
  {
   "cell_type": "markdown",
   "metadata": {},
   "source": [
    "### Explore the data"
   ]
  },
  {
   "cell_type": "code",
   "execution_count": 8,
   "metadata": {},
   "outputs": [
    {
     "name": "stdout",
     "output_type": "stream",
     "text": [
      "Training entries: 25000, labels: 25000\n"
     ]
    }
   ],
   "source": [
    "print(\"Training entries: {}, labels: {}\".format(len(train_data), len(train_labels)))"
   ]
  },
  {
   "cell_type": "code",
   "execution_count": 9,
   "metadata": {},
   "outputs": [
    {
     "name": "stdout",
     "output_type": "stream",
     "text": [
      "[1, 14, 22, 16, 43, 530, 973, 1622, 1385, 65, 458, 4468, 66, 3941, 4, 173, 36, 256, 5, 25, 100, 43, 838, 112, 50, 670, 2, 9, 35, 480, 284, 5, 150, 4, 172, 112, 167, 2, 336, 385, 39, 4, 172, 4536, 1111, 17, 546, 38, 13, 447, 4, 192, 50, 16, 6, 147, 2025, 19, 14, 22, 4, 1920, 4613, 469, 4, 22, 71, 87, 12, 16, 43, 530, 38, 76, 15, 13, 1247, 4, 22, 17, 515, 17, 12, 16, 626, 18, 2, 5, 62, 386, 12, 8, 316, 8, 106, 5, 4, 2223, 5244, 16, 480, 66, 3785, 33, 4, 130, 12, 16, 38, 619, 5, 25, 124, 51, 36, 135, 48, 25, 1415, 33, 6, 22, 12, 215, 28, 77, 52, 5, 14, 407, 16, 82, 2, 8, 4, 107, 117, 5952, 15, 256, 4, 2, 7, 3766, 5, 723, 36, 71, 43, 530, 476, 26, 400, 317, 46, 7, 4, 2, 1029, 13, 104, 88, 4, 381, 15, 297, 98, 32, 2071, 56, 26, 141, 6, 194, 7486, 18, 4, 226, 22, 21, 134, 476, 26, 480, 5, 144, 30, 5535, 18, 51, 36, 28, 224, 92, 25, 104, 4, 226, 65, 16, 38, 1334, 88, 12, 16, 283, 5, 16, 4472, 113, 103, 32, 15, 16, 5345, 19, 178, 32]\n"
     ]
    }
   ],
   "source": [
    "print(train_data[0])"
   ]
  },
  {
   "cell_type": "code",
   "execution_count": 11,
   "metadata": {},
   "outputs": [
    {
     "data": {
      "text/plain": [
       "(218, 189)"
      ]
     },
     "execution_count": 11,
     "metadata": {},
     "output_type": "execute_result"
    }
   ],
   "source": [
    "len(train_data[0]), len(train_data[1])"
   ]
  },
  {
   "cell_type": "markdown",
   "metadata": {},
   "source": [
    "### Converting the integers back to words"
   ]
  },
  {
   "cell_type": "code",
   "execution_count": 18,
   "metadata": {},
   "outputs": [],
   "source": [
    "# A dictionary mapping words to an integer index\n",
    "word_index = imdb.get_word_index()\n",
    "\n",
    "# The first indices are reserved - value starts from 1 in the word_index dict\n",
    "word_index = {k:(v+3) for k,v in word_index.items()}\n",
    "word_index[\"<PAD>\"] = 0\n",
    "word_index[\"<START>\"] = 1\n",
    "word_index[\"<UNK>\"] = 2 # unknown\n",
    "word_index[\"<UNUSED>\"] = 3\n",
    "\n",
    "reverse_word_index = dict([(value, key) for (key, value) in word_index.items()])\n",
    "\n",
    "def decode_review(text):\n",
    "    return ' '.join([reverse_word_index.get(i, '?') for i in text])"
   ]
  },
  {
   "cell_type": "code",
   "execution_count": 19,
   "metadata": {},
   "outputs": [
    {
     "data": {
      "text/plain": [
       "\"<START> this film was just brilliant casting location scenery story direction everyone's really suited the part they played and you could just imagine being there robert <UNK> is an amazing actor and now the same being director <UNK> father came from the same scottish island as myself so i loved the fact there was a real connection with this film the witty remarks throughout the film were great it was just brilliant so much that i bought the film as soon as it was released for <UNK> and would recommend it to everyone to watch and the fly fishing was amazing really cried at the end it was so sad and you know what they say if you cry at a film it must have been good and this definitely was also <UNK> to the two little boy's that played the <UNK> of norman and paul they were just brilliant children are often left out of the <UNK> list i think because the stars that play them all grown up are such a big profile for the whole film but these children are amazing and should be praised for what they have done don't you think the whole story was so lovely because it was true and was someone's life after all that was shared with us all\""
      ]
     },
     "execution_count": 19,
     "metadata": {},
     "output_type": "execute_result"
    }
   ],
   "source": [
    "decode_review(train_data[0])"
   ]
  },
  {
   "cell_type": "markdown",
   "metadata": {},
   "source": [
    "### Prepare the data"
   ]
  },
  {
   "cell_type": "markdown",
   "metadata": {},
   "source": [
    "We will pad the arrays so that they all have the same length, then create an integer tensor of shape max_length * num_reviews. We will use an embedding layer capable of handling this shape as the first layer in our network. \n",
    "We will use the pad_sequences function to standardize the lengths."
   ]
  },
  {
   "cell_type": "code",
   "execution_count": 22,
   "metadata": {},
   "outputs": [],
   "source": [
    "train_data = keras.preprocessing.sequence.pad_sequences(train_data,\n",
    "                                                       value=word_index[\"<PAD>\"],\n",
    "                                                       padding='post',\n",
    "                                                       maxlen=256)\n",
    "test_data = keras.preprocessing.sequence.pad_sequences(test_data,\n",
    "                                                      value=word_index[\"<PAD>\"],\n",
    "                                                      padding='post',\n",
    "                                                      maxlen=256)"
   ]
  },
  {
   "cell_type": "code",
   "execution_count": 23,
   "metadata": {},
   "outputs": [
    {
     "data": {
      "text/plain": [
       "(256, 256)"
      ]
     },
     "execution_count": 23,
     "metadata": {},
     "output_type": "execute_result"
    }
   ],
   "source": [
    "len(train_data[0]), len(train_data[1])"
   ]
  },
  {
   "cell_type": "code",
   "execution_count": 24,
   "metadata": {},
   "outputs": [
    {
     "name": "stdout",
     "output_type": "stream",
     "text": [
      "[   1   14   22   16   43  530  973 1622 1385   65  458 4468   66 3941\n",
      "    4  173   36  256    5   25  100   43  838  112   50  670    2    9\n",
      "   35  480  284    5  150    4  172  112  167    2  336  385   39    4\n",
      "  172 4536 1111   17  546   38   13  447    4  192   50   16    6  147\n",
      " 2025   19   14   22    4 1920 4613  469    4   22   71   87   12   16\n",
      "   43  530   38   76   15   13 1247    4   22   17  515   17   12   16\n",
      "  626   18    2    5   62  386   12    8  316    8  106    5    4 2223\n",
      " 5244   16  480   66 3785   33    4  130   12   16   38  619    5   25\n",
      "  124   51   36  135   48   25 1415   33    6   22   12  215   28   77\n",
      "   52    5   14  407   16   82    2    8    4  107  117 5952   15  256\n",
      "    4    2    7 3766    5  723   36   71   43  530  476   26  400  317\n",
      "   46    7    4    2 1029   13  104   88    4  381   15  297   98   32\n",
      " 2071   56   26  141    6  194 7486   18    4  226   22   21  134  476\n",
      "   26  480    5  144   30 5535   18   51   36   28  224   92   25  104\n",
      "    4  226   65   16   38 1334   88   12   16  283    5   16 4472  113\n",
      "  103   32   15   16 5345   19  178   32    0    0    0    0    0    0\n",
      "    0    0    0    0    0    0    0    0    0    0    0    0    0    0\n",
      "    0    0    0    0    0    0    0    0    0    0    0    0    0    0\n",
      "    0    0    0    0]\n"
     ]
    }
   ],
   "source": [
    "print(train_data[0])"
   ]
  },
  {
   "cell_type": "markdown",
   "metadata": {},
   "source": [
    "### Build the model"
   ]
  },
  {
   "cell_type": "code",
   "execution_count": 40,
   "metadata": {},
   "outputs": [
    {
     "name": "stdout",
     "output_type": "stream",
     "text": [
      "_________________________________________________________________\n",
      "Layer (type)                 Output Shape              Param #   \n",
      "=================================================================\n",
      "embedding_1 (Embedding)      (None, None, 16)          160000    \n",
      "_________________________________________________________________\n",
      "global_average_pooling1d_1 ( (None, 16)                0         \n",
      "_________________________________________________________________\n",
      "dense_2 (Dense)              (None, 16)                272       \n",
      "_________________________________________________________________\n",
      "dense_3 (Dense)              (None, 1)                 17        \n",
      "=================================================================\n",
      "Total params: 160,289\n",
      "Trainable params: 160,289\n",
      "Non-trainable params: 0\n",
      "_________________________________________________________________\n"
     ]
    }
   ],
   "source": [
    "# input shape is the vocabulary count used for the movie reviews (10,000 words)\n",
    "vocab_size = 10000\n",
    "\n",
    "model = keras.Sequential()\n",
    "model.add(keras.layers.Embedding(vocab_size, 16))\n",
    "model.add(keras.layers.GlobalAveragePooling1D())\n",
    "model.add(keras.layers.Dense(16, activation=tf.nn.relu))\n",
    "model.add(keras.layers.Dense(1, activation=tf.nn.sigmoid))\n",
    "\n",
    "model.summary()"
   ]
  },
  {
   "cell_type": "markdown",
   "metadata": {},
   "source": [
    "### Loss function and optimizer"
   ]
  },
  {
   "cell_type": "code",
   "execution_count": 41,
   "metadata": {},
   "outputs": [],
   "source": [
    "model.compile(optimizer=tf.train.AdamOptimizer(),\n",
    "             loss='binary_crossentropy',\n",
    "             metrics=['accuracy'])"
   ]
  },
  {
   "cell_type": "markdown",
   "metadata": {},
   "source": [
    "### Create a validation set"
   ]
  },
  {
   "cell_type": "code",
   "execution_count": 42,
   "metadata": {},
   "outputs": [],
   "source": [
    "x_val = train_data[:10000]\n",
    "partial_x_train = train_data[10000:]\n",
    "\n",
    "y_val = train_labels[:10000]\n",
    "partial_y_train = train_labels[10000:]"
   ]
  },
  {
   "cell_type": "markdown",
   "metadata": {},
   "source": [
    "### Train the model"
   ]
  },
  {
   "cell_type": "code",
   "execution_count": 43,
   "metadata": {},
   "outputs": [
    {
     "name": "stdout",
     "output_type": "stream",
     "text": [
      "Train on 15000 samples, validate on 10000 samples\n",
      "Epoch 1/40\n",
      "15000/15000 [==============================] - 1s 39us/step - loss: 0.6932 - acc: 0.5090 - val_loss: 0.6916 - val_acc: 0.5460\n",
      "Epoch 2/40\n",
      "15000/15000 [==============================] - 0s 25us/step - loss: 0.6909 - acc: 0.5559 - val_loss: 0.6897 - val_acc: 0.6094\n",
      "Epoch 3/40\n",
      "15000/15000 [==============================] - 0s 25us/step - loss: 0.6884 - acc: 0.5858 - val_loss: 0.6874 - val_acc: 0.5496\n",
      "Epoch 4/40\n",
      "15000/15000 [==============================] - 0s 25us/step - loss: 0.6850 - acc: 0.5885 - val_loss: 0.6847 - val_acc: 0.5009\n",
      "Epoch 5/40\n",
      "15000/15000 [==============================] - 0s 25us/step - loss: 0.6793 - acc: 0.6729 - val_loss: 0.6773 - val_acc: 0.6651\n",
      "Epoch 6/40\n",
      "15000/15000 [==============================] - 0s 25us/step - loss: 0.6713 - acc: 0.6887 - val_loss: 0.6682 - val_acc: 0.7193\n",
      "Epoch 7/40\n",
      "15000/15000 [==============================] - 0s 25us/step - loss: 0.6593 - acc: 0.7357 - val_loss: 0.6542 - val_acc: 0.7428\n",
      "Epoch 8/40\n",
      "15000/15000 [==============================] - 0s 25us/step - loss: 0.6423 - acc: 0.7599 - val_loss: 0.6374 - val_acc: 0.7519\n",
      "Epoch 9/40\n",
      "15000/15000 [==============================] - 0s 25us/step - loss: 0.6222 - acc: 0.7724 - val_loss: 0.6172 - val_acc: 0.7637\n",
      "Epoch 10/40\n",
      "15000/15000 [==============================] - 0s 25us/step - loss: 0.5979 - acc: 0.7781 - val_loss: 0.5944 - val_acc: 0.7485\n",
      "Epoch 11/40\n",
      "15000/15000 [==============================] - 0s 26us/step - loss: 0.5707 - acc: 0.7927 - val_loss: 0.5683 - val_acc: 0.7831\n",
      "Epoch 12/40\n",
      "15000/15000 [==============================] - 0s 26us/step - loss: 0.5418 - acc: 0.8072 - val_loss: 0.5421 - val_acc: 0.7945\n",
      "Epoch 13/40\n",
      "15000/15000 [==============================] - 0s 26us/step - loss: 0.5119 - acc: 0.8196 - val_loss: 0.5154 - val_acc: 0.8052\n",
      "Epoch 14/40\n",
      "15000/15000 [==============================] - 0s 26us/step - loss: 0.4819 - acc: 0.8328 - val_loss: 0.4887 - val_acc: 0.8118\n",
      "Epoch 15/40\n",
      "15000/15000 [==============================] - 0s 25us/step - loss: 0.4535 - acc: 0.8443 - val_loss: 0.4634 - val_acc: 0.8290\n",
      "Epoch 16/40\n",
      "15000/15000 [==============================] - 0s 25us/step - loss: 0.4262 - acc: 0.8560 - val_loss: 0.4405 - val_acc: 0.8370\n",
      "Epoch 17/40\n",
      "15000/15000 [==============================] - 0s 27us/step - loss: 0.4023 - acc: 0.8633 - val_loss: 0.4214 - val_acc: 0.8387\n",
      "Epoch 18/40\n",
      "15000/15000 [==============================] - 0s 26us/step - loss: 0.3808 - acc: 0.8710 - val_loss: 0.4031 - val_acc: 0.8489\n",
      "Epoch 19/40\n",
      "15000/15000 [==============================] - 0s 25us/step - loss: 0.3609 - acc: 0.8789 - val_loss: 0.3882 - val_acc: 0.8548\n",
      "Epoch 20/40\n",
      "15000/15000 [==============================] - 0s 25us/step - loss: 0.3436 - acc: 0.8843 - val_loss: 0.3749 - val_acc: 0.8578\n",
      "Epoch 21/40\n",
      "15000/15000 [==============================] - 0s 25us/step - loss: 0.3281 - acc: 0.8893 - val_loss: 0.3636 - val_acc: 0.8625\n",
      "Epoch 22/40\n",
      "15000/15000 [==============================] - 0s 26us/step - loss: 0.3152 - acc: 0.8921 - val_loss: 0.3542 - val_acc: 0.8641\n",
      "Epoch 23/40\n",
      "15000/15000 [==============================] - 0s 25us/step - loss: 0.3023 - acc: 0.8954 - val_loss: 0.3452 - val_acc: 0.8673\n",
      "Epoch 24/40\n",
      "15000/15000 [==============================] - 0s 25us/step - loss: 0.2906 - acc: 0.8989 - val_loss: 0.3378 - val_acc: 0.8696\n",
      "Epoch 25/40\n",
      "15000/15000 [==============================] - 0s 26us/step - loss: 0.2803 - acc: 0.9016 - val_loss: 0.3311 - val_acc: 0.8719\n",
      "Epoch 26/40\n",
      "15000/15000 [==============================] - 0s 25us/step - loss: 0.2705 - acc: 0.9055 - val_loss: 0.3249 - val_acc: 0.8739\n",
      "Epoch 27/40\n",
      "15000/15000 [==============================] - 0s 25us/step - loss: 0.2616 - acc: 0.9083 - val_loss: 0.3205 - val_acc: 0.8736\n",
      "Epoch 28/40\n",
      "15000/15000 [==============================] - 0s 25us/step - loss: 0.2550 - acc: 0.9095 - val_loss: 0.3157 - val_acc: 0.8766\n",
      "Epoch 29/40\n",
      "15000/15000 [==============================] - 0s 25us/step - loss: 0.2455 - acc: 0.9132 - val_loss: 0.3116 - val_acc: 0.8787\n",
      "Epoch 30/40\n",
      "15000/15000 [==============================] - 0s 25us/step - loss: 0.2387 - acc: 0.9161 - val_loss: 0.3104 - val_acc: 0.8765\n",
      "Epoch 31/40\n",
      "15000/15000 [==============================] - 0s 26us/step - loss: 0.2317 - acc: 0.9185 - val_loss: 0.3046 - val_acc: 0.8794\n",
      "Epoch 32/40\n",
      "15000/15000 [==============================] - 0s 26us/step - loss: 0.2248 - acc: 0.9208 - val_loss: 0.3023 - val_acc: 0.8793\n",
      "Epoch 33/40\n",
      "15000/15000 [==============================] - 0s 26us/step - loss: 0.2188 - acc: 0.9231 - val_loss: 0.2992 - val_acc: 0.8804\n",
      "Epoch 34/40\n",
      "15000/15000 [==============================] - 0s 25us/step - loss: 0.2126 - acc: 0.9253 - val_loss: 0.2977 - val_acc: 0.8823\n",
      "Epoch 35/40\n",
      "15000/15000 [==============================] - 0s 25us/step - loss: 0.2071 - acc: 0.9279 - val_loss: 0.2959 - val_acc: 0.8824\n",
      "Epoch 36/40\n",
      "15000/15000 [==============================] - 0s 26us/step - loss: 0.2019 - acc: 0.9299 - val_loss: 0.2935 - val_acc: 0.8824\n",
      "Epoch 37/40\n",
      "15000/15000 [==============================] - 0s 25us/step - loss: 0.1964 - acc: 0.9322 - val_loss: 0.2921 - val_acc: 0.8839\n",
      "Epoch 38/40\n",
      "15000/15000 [==============================] - 0s 25us/step - loss: 0.1916 - acc: 0.9346 - val_loss: 0.2935 - val_acc: 0.8810\n",
      "Epoch 39/40\n",
      "15000/15000 [==============================] - 0s 26us/step - loss: 0.1870 - acc: 0.9360 - val_loss: 0.2899 - val_acc: 0.8848\n",
      "Epoch 40/40\n",
      "15000/15000 [==============================] - 0s 25us/step - loss: 0.1820 - acc: 0.9389 - val_loss: 0.2894 - val_acc: 0.8853\n"
     ]
    }
   ],
   "source": [
    "history = model.fit(partial_x_train,\n",
    "                   partial_y_train,\n",
    "                   epochs=40,\n",
    "                   batch_size=512,\n",
    "                   validation_data=(x_val, y_val),\n",
    "                   verbose=1)"
   ]
  },
  {
   "cell_type": "markdown",
   "metadata": {},
   "source": [
    "### Evaluate the model"
   ]
  },
  {
   "cell_type": "code",
   "execution_count": 44,
   "metadata": {},
   "outputs": [
    {
     "name": "stdout",
     "output_type": "stream",
     "text": [
      "25000/25000 [==============================] - 0s 8us/step\n",
      "[0.304015155878067, 0.87528]\n"
     ]
    }
   ],
   "source": [
    "results = model.evaluate(test_data, test_labels)\n",
    "\n",
    "print(results)"
   ]
  },
  {
   "cell_type": "markdown",
   "metadata": {},
   "source": [
    "### Create a graph of accuracy and loss over time"
   ]
  },
  {
   "cell_type": "code",
   "execution_count": 45,
   "metadata": {},
   "outputs": [
    {
     "data": {
      "text/plain": [
       "dict_keys(['val_loss', 'val_acc', 'loss', 'acc'])"
      ]
     },
     "execution_count": 45,
     "metadata": {},
     "output_type": "execute_result"
    }
   ],
   "source": [
    "history_dict = history.history\n",
    "history_dict.keys()"
   ]
  },
  {
   "cell_type": "code",
   "execution_count": 46,
   "metadata": {},
   "outputs": [
    {
     "data": {
      "image/png": "[encoded data removed]",
      "text/plain": [
       "<Figure size 432x288 with 1 Axes>"
      ]
     },
     "metadata": {
      "needs_background": "light"
     },
     "output_type": "display_data"
    }
   ],
   "source": [
    "acc = history.history['acc']\n",
    "val_acc = history.history['val_acc']\n",
    "loss = history.history['loss']\n",
    "val_loss = history.history['val_loss']\n",
    "\n",
    "epochs = range(1, len(acc) + 1)\n",
    "\n",
    "# 'bo' is for \"blue dot\"\n",
    "plt.plot(epochs, loss, 'bo', label='Training loss')\n",
    "# 'b' is for \"solid blue line\"\n",
    "plt.plot(epochs, val_loss, 'b', label='Validation loss')\n",
    "plt.title('Training and validation loss')\n",
    "plt.xlabel('Epochs')\n",
    "plt.ylabel('Loss')\n",
    "plt.legend()\n",
    "\n",
    "plt.show()"
   ]
  },
  {
   "cell_type": "code",
   "execution_count": 47,
   "metadata": {},
   "outputs": [
    {
     "data": {
      "image/png": "[encoded data removed]",
      "text/plain": [
       "<Figure size 432x288 with 1 Axes>"
      ]
     },
     "metadata": {
      "needs_background": "light"
     },
     "output_type": "display_data"
    }
   ],
   "source": [
    "plt.clf()\n",
    "acc_values = history_dict['acc']\n",
    "val_acc_values = history_dict['val_acc']\n",
    "\n",
    "plt.plot(epochs, acc, 'bo', label='Training acc')\n",
    "plt.plot(epochs, val_acc, 'b', label='Validation acc')\n",
    "plt.title('Training and validation accuracy')\n",
    "plt.xlabel('Epcohs')\n",
    "plt.ylabel('Accuracy')\n",
    "plt.legend()\n",
    "\n",
    "plt.show()"
   ]
  },
  {
   "cell_type": "code",
   "execution_count": null,
   "metadata": {},
   "outputs": [],
   "source": []
  }
 ],
 "metadata": {
  "kernelspec": {
   "display_name": "Python 3",
   "language": "python",
   "name": "python3"
  },
  "language_info": {
   "codemirror_mode": {
    "name": "ipython",
    "version": 3
   },
   "file_extension": ".py",
   "mimetype": "text/x-python",
   "name": "python",
   "nbconvert_exporter": "python",
   "pygments_lexer": "ipython3",
   "version": "3.6.6"
  }
 },
 "nbformat": 4,
 "nbformat_minor": 2
}
