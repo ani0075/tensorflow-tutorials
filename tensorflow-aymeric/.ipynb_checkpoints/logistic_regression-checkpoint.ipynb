{
 "cells": [
  {
   "cell_type": "markdown",
   "metadata": {},
   "source": [
    "Check method to download MNIST for new tensorflow version"
   ]
  },
  {
   "cell_type": "code",
   "execution_count": 2,
   "metadata": {},
   "outputs": [
    {
     "name": "stdout",
     "output_type": "stream",
     "text": [
      "Extracting /tmp/data/train-images-idx3-ubyte.gz\n",
      "Extracting /tmp/data/train-labels-idx1-ubyte.gz\n",
      "Extracting /tmp/data/t10k-images-idx3-ubyte.gz\n",
      "Extracting /tmp/data/t10k-labels-idx1-ubyte.gz\n"
     ]
    }
   ],
   "source": [
    "import tensorflow as tf\n",
    "\n",
    "# import MNIST data\n",
    "from tensorflow.examples.tutorials.mnist import input_data\n",
    "mnist = input_data.read_data_sets(\"/tmp/data\", one_hot=True)"
   ]
  },
  {
   "cell_type": "code",
   "execution_count": 6,
   "metadata": {},
   "outputs": [],
   "source": [
    "# Parameters\n",
    "learning_rate = 0.01\n",
    "training_epochs = 50\n",
    "batch_size = 100\n",
    "display_step = 1\n",
    "\n",
    "# tf Graph input\n",
    "x = tf.placeholder(tf.float32, [None, 784]) # mnist data image of shape 28*28=784\n",
    "y = tf.placeholder(tf.float32, [None, 10]) # 0-9 digits recognition => 10 classes\n",
    "\n",
    "# Set model weights\n",
    "W = tf.Variable(tf.zeros([784, 10]))\n",
    "b = tf.Variable(tf.zeros([10]))\n",
    "\n",
    "# Construct model\n",
    "pred = tf.nn.softmax(tf.matmul(x, W) + b) # Softmax\n",
    "\n",
    "# Minimize error using cross entropy\n",
    "cost = tf.reduce_mean(-tf.reduce_sum(y*tf.log(pred), reduction_indices=1))\n",
    "\n",
    "# Gradient Descent\n",
    "optimizer = tf.train.GradientDescentOptimizer(learning_rate).minimize(cost)\n",
    "\n",
    "# Initialize the variables (i.e. assign their default value)\n",
    "init = tf.global_variables_initializer()"
   ]
  },
  {
   "cell_type": "code",
   "execution_count": 7,
   "metadata": {},
   "outputs": [
    {
     "name": "stdout",
     "output_type": "stream",
     "text": [
      "Epoch 0001, cost=1.184523079\n",
      "Epoch 0002, cost=0.665474135\n",
      "Epoch 0003, cost=0.552880483\n",
      "Epoch 0004, cost=0.498750662\n",
      "Epoch 0005, cost=0.465636253\n",
      "Epoch 0006, cost=0.442337907\n",
      "Epoch 0007, cost=0.425440244\n",
      "Epoch 0008, cost=0.412440696\n",
      "Epoch 0009, cost=0.401070468\n",
      "Epoch 0010, cost=0.392681432\n",
      "Epoch 0011, cost=0.384721803\n",
      "Epoch 0012, cost=0.378171030\n",
      "Epoch 0013, cost=0.372440109\n",
      "Epoch 0014, cost=0.367150908\n",
      "Epoch 0015, cost=0.362922137\n",
      "Epoch 0016, cost=0.358693832\n",
      "Epoch 0017, cost=0.354456411\n",
      "Epoch 0018, cost=0.351976877\n",
      "Epoch 0019, cost=0.347950243\n",
      "Epoch 0020, cost=0.345500420\n",
      "Epoch 0021, cost=0.342849941\n",
      "Epoch 0022, cost=0.340238764\n",
      "Epoch 0023, cost=0.337752784\n",
      "Epoch 0024, cost=0.335927465\n",
      "Epoch 0025, cost=0.333573257\n",
      "Epoch 0026, cost=0.331841538\n",
      "Epoch 0027, cost=0.329970496\n",
      "Epoch 0028, cost=0.328183155\n",
      "Epoch 0029, cost=0.326862112\n",
      "Epoch 0030, cost=0.324778650\n",
      "Epoch 0031, cost=0.323605079\n",
      "Epoch 0032, cost=0.322139057\n",
      "Epoch 0033, cost=0.321519943\n",
      "Epoch 0034, cost=0.319228948\n",
      "Epoch 0035, cost=0.317925314\n",
      "Epoch 0036, cost=0.317309754\n",
      "Epoch 0037, cost=0.315855478\n",
      "Epoch 0038, cost=0.315287169\n",
      "Epoch 0039, cost=0.313637017\n",
      "Epoch 0040, cost=0.312857233\n",
      "Epoch 0041, cost=0.311791281\n",
      "Epoch 0042, cost=0.310919143\n",
      "Epoch 0043, cost=0.310129218\n",
      "Epoch 0044, cost=0.309156113\n",
      "Epoch 0045, cost=0.308832434\n",
      "Epoch 0046, cost=0.307004174\n",
      "Epoch 0047, cost=0.306898791\n",
      "Epoch 0048, cost=0.305557466\n",
      "Epoch 0049, cost=0.305476195\n",
      "Epoch 0050, cost=0.304459458\n",
      "Optimization finished!\n",
      "Accuracy: 0.8976667\n"
     ]
    }
   ],
   "source": [
    "# Start training\n",
    "with tf.Session() as sess:\n",
    "    sess.run(init)\n",
    "    \n",
    "    # Training cycle\n",
    "    for epoch in range(training_epochs):\n",
    "        avg_cost = 0.\n",
    "        total_batch = int(mnist.train.num_examples/batch_size)\n",
    "        # Loop over all batches\n",
    "        for i in range(total_batch):\n",
    "            batch_xs, batch_ys = mnist.train.next_batch(batch_size)\n",
    "            # Fit training using batch data\n",
    "            _, c = sess.run([optimizer, cost], feed_dict={x: batch_xs,\n",
    "                                                          y: batch_ys})\n",
    "            \n",
    "            # Compute average loss\n",
    "            avg_cost += c / total_batch\n",
    "            \n",
    "        # Display logs per epoch step\n",
    "        if (epoch+1) % display_step == 0:\n",
    "            print(\"Epoch {:04d}, cost={:.9f}\".format((epoch+1), avg_cost))\n",
    "        \n",
    "    print(\"Optimization finished!\")\n",
    "    \n",
    "    # Test model\n",
    "    correct_prediction = tf.equal(tf.argmax(pred, 1), tf.argmax(y, 1))\n",
    "    \n",
    "    # Calculate accuracy for 3000 examples\n",
    "    accuracy = tf.reduce_mean(tf.cast(correct_prediction, tf.float32))\n",
    "    print(\"Accuracy:\",accuracy.eval({x: mnist.test.images[:3000], y: mnist.test.labels[:3000]}))"
   ]
  },
  {
   "cell_type": "code",
   "execution_count": null,
   "metadata": {},
   "outputs": [],
   "source": []
  }
 ],
 "metadata": {
  "kernelspec": {
   "display_name": "Python 3",
   "language": "python",
   "name": "python3"
  },
  "language_info": {
   "codemirror_mode": {
    "name": "ipython",
    "version": 3
   },
   "file_extension": ".py",
   "mimetype": "text/x-python",
   "name": "python",
   "nbconvert_exporter": "python",
   "pygments_lexer": "ipython3",
   "version": "3.6.6"
  }
 },
 "nbformat": 4,
 "nbformat_minor": 2
}
