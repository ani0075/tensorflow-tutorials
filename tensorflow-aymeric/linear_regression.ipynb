{
 "cells": [
  {
   "cell_type": "code",
   "execution_count": 1,
   "metadata": {},
   "outputs": [],
   "source": [
    "import tensorflow as tf\n",
    "import numpy as np\n",
    "import matplotlib.pyplot as plt\n",
    "rng = np.random"
   ]
  },
  {
   "cell_type": "code",
   "execution_count": 2,
   "metadata": {},
   "outputs": [],
   "source": [
    "# Parameters\n",
    "learning_rate = 0.01\n",
    "training_epochs = 1000\n",
    "display_step = 50"
   ]
  },
  {
   "cell_type": "code",
   "execution_count": 4,
   "metadata": {},
   "outputs": [],
   "source": [
    "# Training Data\n",
    "train_X = np.asarray([3.3,4.4,5.5,6.71,6.93,4.168,9.779,6.182,7.59,2.167,\n",
    "                         7.042,10.791,5.313,7.997,5.654,9.27,3.1])\n",
    "train_Y = np.asarray([1.7,2.76,2.09,3.19,1.694,1.573,3.366,2.596,2.53,1.221,\n",
    "                         2.827,3.465,1.65,2.904,2.42,2.94,1.3])\n",
    "n_samples = train_X.shape[0]"
   ]
  },
  {
   "cell_type": "code",
   "execution_count": 16,
   "metadata": {},
   "outputs": [],
   "source": [
    "# tf Graph Input\n",
    "X = tf.placeholder(\"float\")\n",
    "Y = tf.placeholder(\"float\")\n",
    "\n",
    "# Set model weights\n",
    "W = tf.Variable(rng.randn(), name=\"weight\")\n",
    "b = tf.Variable(rng.randn(), name=\"bias\")"
   ]
  },
  {
   "cell_type": "code",
   "execution_count": 17,
   "metadata": {},
   "outputs": [],
   "source": [
    "# Construct a linear model\n",
    "pred = tf.add(tf.multiply(X, W), b)"
   ]
  },
  {
   "cell_type": "code",
   "execution_count": 18,
   "metadata": {},
   "outputs": [],
   "source": [
    "# Mean squared error\n",
    "cost = tf.reduce_sum(tf.pow(pred-Y, 2))/(2*n_samples)\n",
    "# Gradient descent\n",
    "optimizer = tf.train.GradientDescentOptimizer(learning_rate).minimize(cost)"
   ]
  },
  {
   "cell_type": "markdown",
   "metadata": {},
   "source": [
    "Significance of global_varibales_initializer()?"
   ]
  },
  {
   "cell_type": "code",
   "execution_count": 19,
   "metadata": {},
   "outputs": [],
   "source": [
    "# Initialize the variables (i.e. assign their default value)\n",
    "init = tf.global_variables_initializer()"
   ]
  },
  {
   "cell_type": "code",
   "execution_count": 20,
   "metadata": {},
   "outputs": [
    {
     "name": "stdout",
     "output_type": "stream",
     "text": [
      "Epoch: 0050, cost=0.165251702, W=0.4157370328903198, b=-0.3937579393386841\n",
      "Epoch: 0100, cost=0.155051425, W=0.4058557450771332, b=-0.3226720988750458\n",
      "Epoch: 0150, cost=0.146029264, W=0.3965621292591095, b=-0.2558146119117737\n",
      "Epoch: 0200, cost=0.138049170, W=0.387821227312088, b=-0.19293338060379028\n",
      "Epoch: 0250, cost=0.130990729, W=0.3796001076698303, b=-0.13379165530204773\n",
      "Epoch: 0300, cost=0.124747612, W=0.3718681037425995, b=-0.07816751301288605\n",
      "Epoch: 0350, cost=0.119225688, W=0.36459586024284363, b=-0.025851527228951454\n",
      "Epoch: 0400, cost=0.114341661, W=0.3577560782432556, b=0.023352988064289093\n",
      "Epoch: 0450, cost=0.110021882, W=0.3513232171535492, b=0.06963111460208893\n",
      "Epoch: 0500, cost=0.106201179, W=0.34527283906936646, b=0.11315697431564331\n",
      "Epoch: 0550, cost=0.102821976, W=0.33958232402801514, b=0.1540938764810562\n",
      "Epoch: 0600, cost=0.099833198, W=0.3342302143573761, b=0.19259637594223022\n",
      "Epoch: 0650, cost=0.097189851, W=0.3291965425014496, b=0.22880873084068298\n",
      "Epoch: 0700, cost=0.094851948, W=0.32446199655532837, b=0.2628680467605591\n",
      "Epoch: 0750, cost=0.092784248, W=0.32000917196273804, b=0.29490166902542114\n",
      "Epoch: 0800, cost=0.090955593, W=0.31582120060920715, b=0.3250298798084259\n",
      "Epoch: 0850, cost=0.089338370, W=0.3118824064731598, b=0.35336530208587646\n",
      "Epoch: 0900, cost=0.087908104, W=0.3081776797771454, b=0.3800162374973297\n",
      "Epoch: 0950, cost=0.086643204, W=0.30469340085983276, b=0.40508219599723816\n",
      "Epoch: 1000, cost=0.085524626, W=0.301416277885437, b=0.4286566376686096\n",
      "Optimization Finished!\n",
      "Training cost= 0.085524626 W= 0.30141628 b= 0.42865664 \n",
      "\n"
     ]
    },
    {
     "data": {
      "image/png": "[encoded data removed]",
      "text/plain": [
       "<Figure size 432x288 with 1 Axes>"
      ]
     },
     "metadata": {
      "needs_background": "light"
     },
     "output_type": "display_data"
    }
   ],
   "source": [
    "# Start training\n",
    "with tf.Session() as sess:\n",
    "    sess.run(init)\n",
    "    \n",
    "    # Fit all training data\n",
    "    for epoch in range(training_epochs):\n",
    "        for (x, y) in zip(train_X, train_Y):\n",
    "            sess.run(optimizer, feed_dict={X: x, Y: y})\n",
    "            \n",
    "        # Display logs per epoch step\n",
    "        if (epoch+1) % display_step == 0:\n",
    "            c = sess.run(cost, feed_dict={X: train_X, Y: train_Y})\n",
    "            print(\"Epoch: {:04d}, cost={:.9f}, W={}, b={}\".format \\\n",
    "            (epoch+1, c, sess.run(W), sess.run(b)))\n",
    "        \n",
    "    print(\"Optimization Finished!\")\n",
    "    training_cost = sess.run(cost, feed_dict={X: train_X, Y: train_Y})\n",
    "    print(\"Training cost=\", training_cost, \"W=\", sess.run(W), \"b=\", sess.run(b), '\\n' )\n",
    "    \n",
    "    # Graphic display\n",
    "    plt.plot(train_X, train_Y, 'ro', label='Original data')\n",
    "    plt.plot(train_X, sess.run(W) * train_X + sess.run(b), label='Fitted line')\n",
    "    plt.legend()\n",
    "    plt.show()"
   ]
  },
  {
   "cell_type": "code",
   "execution_count": null,
   "metadata": {},
   "outputs": [],
   "source": []
  }
 ],
 "metadata": {
  "kernelspec": {
   "display_name": "Python 3",
   "language": "python",
   "name": "python3"
  },
  "language_info": {
   "codemirror_mode": {
    "name": "ipython",
    "version": 3
   },
   "file_extension": ".py",
   "mimetype": "text/x-python",
   "name": "python",
   "nbconvert_exporter": "python",
   "pygments_lexer": "ipython3",
   "version": "3.6.6"
  }
 },
 "nbformat": 4,
 "nbformat_minor": 2
}
